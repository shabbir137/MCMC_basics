{
 "cells": [
  {
   "cell_type": "markdown",
   "id": "9dd26871",
   "metadata": {},
   "source": [
    "Requirements\n",
    "1) install cobaya for sampling\n",
    "2) install getdist for plotting\n",
    "3) numpy and matplotlib for general computations and plotting, respectively."
   ]
  },
  {
   "cell_type": "markdown",
   "id": "eb64f434",
   "metadata": {},
   "source": [
    "In this exercise, we use Markov Chain Monte Carlo (MCMC) sampler implemented in Cobaya to fit a line for a data set. That is, \n",
    "(1) we generate a mock data = m*x + c + noise, where m is slope of the line, c is y-intercept and noise is assumed to be gaussian random variable with mean zero and standard deviation (= noise_sigma)\n",
    "(2) we then sample the posterior of m and c using Cobaya MCMC sampler\n",
    "(3) since m can range from -inf to +inf, we actually use m = tan($\\theta$) relation, $\\theta$ being the angle of the line with respect to the x-axis as a likelihood parameter. When using theta and c as the main parameters, m is derived from theta and is called a \"derived\" parameter"
   ]
  },
  {
   "cell_type": "code",
   "execution_count": 1,
   "id": "077e2ab7",
   "metadata": {},
   "outputs": [],
   "source": [
    "import numpy as np\n",
    "import matplotlib.pyplot as plt"
   ]
  },
  {
   "cell_type": "code",
   "execution_count": 2,
   "id": "7f34f681",
   "metadata": {},
   "outputs": [],
   "source": [
    "from cobaya import run"
   ]
  },
  {
   "cell_type": "code",
   "execution_count": 3,
   "id": "02102d88",
   "metadata": {},
   "outputs": [],
   "source": [
    "#for plotting the samples\n",
    "import getdist.plots as gdplt"
   ]
  },
  {
   "cell_type": "code",
   "execution_count": 4,
   "id": "d116fe8d",
   "metadata": {},
   "outputs": [
    {
     "name": "stdout",
     "output_type": "stream",
     "text": [
      "ndata =  10\n"
     ]
    }
   ],
   "source": [
    "#parameters of the underlying signal\n",
    "\n",
    "theta_true = np.pi/6.0 #in radian\n",
    "m_true = np.tan(theta_true) \n",
    "c_true = 2.0\n",
    "\n",
    "#range of x variable. Play with this. What happens if x lied mainly to +ve or -ve side of x = 0?\n",
    "x1 = -5.0; x2 = 5.0\n",
    "\n",
    "dx = 1.0\n",
    "n_data = int((x2 - x1)/dx); print(\"ndata = \", n_data)\n",
    "\n",
    "x = np.arange(x1, x2, dx)\n",
    "noise_sigma = 1.0\n",
    "\n",
    "#'data' stores y data\n",
    "data = np.ndarray(shape = (n_data))"
   ]
  },
  {
   "cell_type": "code",
   "execution_count": 5,
   "id": "5f34aeac",
   "metadata": {},
   "outputs": [
    {
     "data": {
      "text/plain": [
       "(0.5773502691896256, 0.5235987755982988, 2.0)"
      ]
     },
     "execution_count": 5,
     "metadata": {},
     "output_type": "execute_result"
    }
   ],
   "source": [
    "m_true, theta_true, c_true"
   ]
  },
  {
   "cell_type": "code",
   "execution_count": 6,
   "id": "c7f71826",
   "metadata": {},
   "outputs": [],
   "source": [
    "#generative model: our model of how y values in 'data' are generated.\n",
    "def gen_model(x, theta, c):\n",
    "    m = np.tan(theta)\n",
    "    y = m*x + c\n",
    "    return y\n",
    "\n",
    "def slope(theta):\n",
    "    return np.tan(theta)"
   ]
  },
  {
   "cell_type": "markdown",
   "id": "e837364e",
   "metadata": {},
   "source": [
    "Generate data with uncertainty or noise.\n",
    "For the purpose of our exercise we want to generate data from the generative model with some added uncertainty. This is the data we want to fit our model."
   ]
  },
  {
   "cell_type": "code",
   "execution_count": 7,
   "id": "4f7c3bbb",
   "metadata": {},
   "outputs": [],
   "source": [
    "def gen_noise(x, noise_sigma):\n",
    "    \"\"\"At give x, generate data with gaussian distributed noise\"\"\"\n",
    "    #s1 = gen_model(x=x, theta = theta_true, c = c_true)\n",
    "    noise = np.random.normal(np.zeros_like(x), noise_sigma, size=None)\n",
    "    return noise\n",
    "\n",
    "data = gen_model(x=x, theta=theta_true, c=c_true) + gen_noise(x=x, noise_sigma=noise_sigma)"
   ]
  },
  {
   "cell_type": "code",
   "execution_count": 8,
   "id": "c9662ab1",
   "metadata": {},
   "outputs": [
    {
     "data": {
      "image/png": "[encoded data removed]",
      "text/plain": [
       "<Figure size 500x500 with 1 Axes>"
      ]
     },
     "metadata": {},
     "output_type": "display_data"
    }
   ],
   "source": [
    "plt.figure(figsize=(5,5))\n",
    "\n",
    "plt.plot(x, data, marker = 'o', linestyle = 'none', label = 'data points')\n",
    "plt.errorbar(x, data, yerr=np.ones_like(x)*noise_sigma, linestyle = 'none')\n",
    "plt.plot(x, gen_model(x=x, theta = theta_true, c = c_true), label = r\"$y = mx + c$\")\n",
    "\n",
    "plt.xlabel(r\"$x$\")\n",
    "plt.ylabel(r\"$y$\")\n",
    "plt.legend(loc='upper left', frameon = False)\n",
    "plt.tight_layout()\n",
    "#plt.savefig(\"data_with_errorbar.pdf\")\n",
    "#plt.show()"
   ]
  },
  {
   "cell_type": "code",
   "execution_count": 9,
   "id": "6239717c",
   "metadata": {},
   "outputs": [],
   "source": [
    "def log_likelihood(theta = np.pi/4.0, intercept = 0.0, _self=None):\n",
    "\n",
    "    sigma = np.ones(shape = (len(x)))*noise_sigma\n",
    "\n",
    "    model = gen_model(x = x, theta = theta, c = intercept) \n",
    " \n",
    "    # Compute the log-likelihood: -0.5 \\times \\chi^2\n",
    "    logL = -0.5*np.sum((data - model)**2/sigma**2)\n",
    "\n",
    "    return logL"
   ]
  },
  {
   "cell_type": "code",
   "execution_count": 10,
   "id": "4761af92",
   "metadata": {},
   "outputs": [],
   "source": [
    "info = {\"likelihood\": {\"line_fit\": log_likelihood}}"
   ]
  },
  {
   "cell_type": "code",
   "execution_count": 11,
   "id": "c0d4e616",
   "metadata": {},
   "outputs": [],
   "source": [
    "#play with following six parameters of parameter priors and chain starting point, and see how the output changes\n",
    "\n",
    "theta_prior_loc = theta_true/1.5 #some reasonable location for demonstration\n",
    "theta_prior_width = 1.0 #prior width\n",
    "c_prior_loc = c_true*1.5 #some reasonable location for demonstration\n",
    "c_prior_width = 1.0 #prior width \n",
    "\n",
    "\n",
    "theta_starting_point = theta_true\n",
    "intercept_starting_point = c_true"
   ]
  },
  {
   "cell_type": "code",
   "execution_count": 12,
   "id": "7b95c4ca",
   "metadata": {},
   "outputs": [],
   "source": [
    "info[\"params\"] = {\n",
    "    'theta': {'prior': {'dist': 'norm', 'loc': theta_prior_loc, 'scale': theta_prior_width}, \n",
    "              'ref': theta_starting_point, 'latex': '\\\\theta'}, \n",
    "    'intercept': {'prior': {'dist': 'norm', 'loc': c_prior_loc, 'scale': c_prior_width}, \n",
    "                  'ref': intercept_starting_point, 'proposal': 0.1, 'latex': 'c'}}"
   ]
  },
  {
   "cell_type": "code",
   "execution_count": 13,
   "id": "4552172a",
   "metadata": {},
   "outputs": [],
   "source": [
    "#specify slope as a derived parameter\n",
    "info[\"params\"][\"m\"] = {\"derived\": slope}"
   ]
  },
  {
   "cell_type": "code",
   "execution_count": 14,
   "id": "51f51ee0",
   "metadata": {},
   "outputs": [],
   "source": [
    "#create a directory to store the output e.g. './notebook_chains' and prefix (e.g. line_fit) for the output files\n",
    "info[\"output\"] = \"./notebook_chains/line_fit\""
   ]
  },
  {
   "cell_type": "code",
   "execution_count": 15,
   "id": "5f2fd56f",
   "metadata": {},
   "outputs": [],
   "source": [
    "info[\"sampler\"] = {\"mcmc\": {\"Rminus1_stop\": 0.005, \"max_tries\": 1000}}"
   ]
  },
  {
   "cell_type": "code",
   "execution_count": 16,
   "id": "c9459280",
   "metadata": {},
   "outputs": [
    {
     "data": {
      "text/plain": [
       "dict_items([('likelihood', {'line_fit': <function log_likelihood at 0x7fa443f0c360>}), ('params', {'theta': {'prior': {'dist': 'norm', 'loc': 0.3490658503988659, 'scale': 1.0}, 'ref': 0.5235987755982988, 'latex': '\\\\theta'}, 'intercept': {'prior': {'dist': 'norm', 'loc': 3.0, 'scale': 1.0}, 'ref': 2.0, 'proposal': 0.1, 'latex': 'c'}, 'm': {'derived': <function slope at 0x7fa44607b7e0>}}), ('output', './notebook_chains/line_fit'), ('sampler', {'mcmc': {'Rminus1_stop': 0.005, 'max_tries': 1000}})])"
      ]
     },
     "execution_count": 16,
     "metadata": {},
     "output_type": "execute_result"
    }
   ],
   "source": [
    "#check the inputs that will be provided to the Cobaya sampler\n",
    "info.items()"
   ]
  },
  {
   "cell_type": "code",
   "execution_count": 17,
   "id": "23add479",
   "metadata": {},
   "outputs": [
    {
     "name": "stdout",
     "output_type": "stream",
     "text": [
      "[output] Output to be read-from/written-into folder './notebook_chains', with prefix 'line_fit'\n",
      "[line_fit] Initialized external likelihood.\n",
      "[mcmc] Getting initial point... (this may take a few seconds)\n",
      "[mcmc] Initial point: theta:0.5235988, intercept:2\n",
      "[model] Measuring speeds... (this may take a few seconds)\n",
      "[model] Setting measured speeds (per sec): {line_fit: 43600.0}\n",
      "[prior] *WARNING* Reference pdf not defined or improper for some parameters. Using prior's sigma instead for them.\n",
      "[mcmc] Covariance matrix not present. We will start learning the covariance of the proposal earlier: R-1 = 30 (would be 2 if all params loaded).\n",
      "[mcmc] Sampling!\n",
      "[mcmc] Progress @ 2024-02-25 00:32:53 : 1 steps taken, and 0 accepted.\n",
      "[mcmc] Learn + convergence test @ 80 samples accepted.\n",
      "[mcmc]  - Acceptance rate: 0.107\n",
      "[mcmc]  - Convergence of means: R-1 = 1.116511 after 64 accepted steps\n",
      "[mcmc]  - Updated covariance matrix of proposal pdf.\n",
      "[mcmc] Learn + convergence test @ 160 samples accepted.\n",
      "[mcmc]  - Acceptance rate: 0.193\n",
      "[mcmc]  - Convergence of means: R-1 = 0.047545 after 128 accepted steps\n",
      "[mcmc]  - Updated covariance matrix of proposal pdf.\n",
      "[mcmc] Learn + convergence test @ 240 samples accepted.\n",
      "[mcmc]  - Acceptance rate: 0.251\n",
      "[mcmc]  - Convergence of means: R-1 = 0.170653 after 192 accepted steps\n",
      "[mcmc]  - Updated covariance matrix of proposal pdf.\n",
      "[mcmc] Learn + convergence test @ 320 samples accepted.\n",
      "[mcmc]  - Acceptance rate: 0.310\n",
      "[mcmc]  - Convergence of means: R-1 = 0.124098 after 256 accepted steps\n",
      "[mcmc]  - Updated covariance matrix of proposal pdf.\n",
      "[mcmc] Learn + convergence test @ 400 samples accepted.\n",
      "[mcmc]  - Acceptance rate: 0.336\n",
      "[mcmc]  - Convergence of means: R-1 = 0.018938 after 320 accepted steps\n",
      "[mcmc]  - Updated covariance matrix of proposal pdf.\n",
      "[mcmc] Learn + convergence test @ 480 samples accepted.\n",
      "[mcmc]  - Acceptance rate: 0.318\n",
      "[mcmc]  - Convergence of means: R-1 = 0.039328 after 384 accepted steps\n",
      "[mcmc]  - Updated covariance matrix of proposal pdf.\n",
      "[mcmc] Learn + convergence test @ 560 samples accepted.\n",
      "[mcmc]  - Acceptance rate: 0.315\n",
      "[mcmc]  - Convergence of means: R-1 = 0.049384 after 448 accepted steps\n",
      "[mcmc]  - Updated covariance matrix of proposal pdf.\n",
      "[mcmc] Learn + convergence test @ 640 samples accepted.\n",
      "[mcmc]  - Acceptance rate: 0.309\n",
      "[mcmc]  - Convergence of means: R-1 = 0.033257 after 512 accepted steps\n",
      "[mcmc]  - Updated covariance matrix of proposal pdf.\n",
      "[mcmc] Learn + convergence test @ 720 samples accepted.\n",
      "[mcmc]  - Acceptance rate: 0.306\n",
      "[mcmc]  - Convergence of means: R-1 = 0.033726 after 576 accepted steps\n",
      "[mcmc]  - Updated covariance matrix of proposal pdf.\n",
      "[mcmc] Learn + convergence test @ 800 samples accepted.\n",
      "[mcmc]  - Acceptance rate: 0.304\n",
      "[mcmc]  - Convergence of means: R-1 = 0.062848 after 640 accepted steps\n",
      "[mcmc]  - Updated covariance matrix of proposal pdf.\n",
      "[mcmc] Learn + convergence test @ 880 samples accepted.\n",
      "[mcmc]  - Acceptance rate: 0.306\n",
      "[mcmc]  - Convergence of means: R-1 = 0.046850 after 704 accepted steps\n",
      "[mcmc]  - Updated covariance matrix of proposal pdf.\n",
      "[mcmc] Learn + convergence test @ 960 samples accepted.\n",
      "[mcmc]  - Acceptance rate: 0.303\n",
      "[mcmc]  - Convergence of means: R-1 = 0.019923 after 768 accepted steps\n",
      "[mcmc]  - Updated covariance matrix of proposal pdf.\n",
      "[mcmc] Learn + convergence test @ 1040 samples accepted.\n",
      "[mcmc]  - Acceptance rate: 0.304\n",
      "[mcmc]  - Convergence of means: R-1 = 0.039444 after 832 accepted steps\n",
      "[mcmc]  - Updated covariance matrix of proposal pdf.\n",
      "[mcmc] Learn + convergence test @ 1120 samples accepted.\n",
      "[mcmc]  - Acceptance rate: 0.308\n",
      "[mcmc]  - Convergence of means: R-1 = 0.034364 after 896 accepted steps\n",
      "[mcmc]  - Updated covariance matrix of proposal pdf.\n",
      "[mcmc] Learn + convergence test @ 1200 samples accepted.\n",
      "[mcmc]  - Acceptance rate: 0.313\n",
      "[mcmc]  - Convergence of means: R-1 = 0.013121 after 960 accepted steps\n",
      "[mcmc]  - Updated covariance matrix of proposal pdf.\n",
      "[mcmc] Learn + convergence test @ 1280 samples accepted.\n",
      "[mcmc]  - Acceptance rate: 0.319\n",
      "[mcmc]  - Convergence of means: R-1 = 0.015120 after 1024 accepted steps\n",
      "[mcmc]  - Updated covariance matrix of proposal pdf.\n",
      "[mcmc] Learn + convergence test @ 1360 samples accepted.\n",
      "[mcmc]  - Acceptance rate: 0.316\n",
      "[mcmc]  - Convergence of means: R-1 = 0.013157 after 1088 accepted steps\n",
      "[mcmc]  - Updated covariance matrix of proposal pdf.\n",
      "[mcmc] Learn + convergence test @ 1440 samples accepted.\n",
      "[mcmc]  - Acceptance rate: 0.313\n",
      "[mcmc]  - Convergence of means: R-1 = 0.022128 after 1152 accepted steps\n",
      "[mcmc]  - Updated covariance matrix of proposal pdf.\n",
      "[mcmc] Learn + convergence test @ 1520 samples accepted.\n",
      "[mcmc]  - Acceptance rate: 0.312\n",
      "[mcmc]  - Convergence of means: R-1 = 0.025205 after 1216 accepted steps\n",
      "[mcmc]  - Updated covariance matrix of proposal pdf.\n",
      "[mcmc] Learn + convergence test @ 1600 samples accepted.\n",
      "[mcmc]  - Acceptance rate: 0.310\n",
      "[mcmc]  - Convergence of means: R-1 = 0.013759 after 1280 accepted steps\n",
      "[mcmc]  - Updated covariance matrix of proposal pdf.\n",
      "[mcmc] Learn + convergence test @ 1680 samples accepted.\n",
      "[mcmc]  - Acceptance rate: 0.309\n",
      "[mcmc]  - Convergence of means: R-1 = 0.007587 after 1344 accepted steps\n",
      "[mcmc]  - Updated covariance matrix of proposal pdf.\n",
      "[mcmc] Learn + convergence test @ 1760 samples accepted.\n",
      "[mcmc]  - Acceptance rate: 0.308\n",
      "[mcmc]  - Convergence of means: R-1 = 0.010704 after 1408 accepted steps\n",
      "[mcmc]  - Updated covariance matrix of proposal pdf.\n",
      "[mcmc] Learn + convergence test @ 1840 samples accepted.\n",
      "[mcmc]  - Acceptance rate: 0.310\n",
      "[mcmc]  - Convergence of means: R-1 = 0.006496 after 1472 accepted steps\n",
      "[mcmc]  - Updated covariance matrix of proposal pdf.\n",
      "[mcmc] Learn + convergence test @ 1920 samples accepted.\n",
      "[mcmc]  - Acceptance rate: 0.307\n",
      "[mcmc]  - Convergence of means: R-1 = 0.012785 after 1536 accepted steps\n",
      "[mcmc]  - Updated covariance matrix of proposal pdf.\n",
      "[mcmc] Learn + convergence test @ 2000 samples accepted.\n",
      "[mcmc]  - Acceptance rate: 0.306\n",
      "[mcmc]  - Convergence of means: R-1 = 0.014180 after 1600 accepted steps\n",
      "[mcmc]  - Updated covariance matrix of proposal pdf.\n",
      "[mcmc] Learn + convergence test @ 2080 samples accepted.\n",
      "[mcmc]  - Acceptance rate: 0.305\n",
      "[mcmc]  - Convergence of means: R-1 = 0.014739 after 1664 accepted steps\n",
      "[mcmc]  - Updated covariance matrix of proposal pdf.\n",
      "[mcmc] Learn + convergence test @ 2160 samples accepted.\n",
      "[mcmc]  - Acceptance rate: 0.304\n",
      "[mcmc]  - Convergence of means: R-1 = 0.012189 after 1728 accepted steps\n",
      "[mcmc]  - Updated covariance matrix of proposal pdf.\n",
      "[mcmc] Learn + convergence test @ 2240 samples accepted.\n",
      "[mcmc]  - Acceptance rate: 0.304\n",
      "[mcmc]  - Convergence of means: R-1 = 0.014260 after 1792 accepted steps\n",
      "[mcmc]  - Updated covariance matrix of proposal pdf.\n",
      "[mcmc] Learn + convergence test @ 2320 samples accepted.\n",
      "[mcmc]  - Acceptance rate: 0.306\n",
      "[mcmc]  - Convergence of means: R-1 = 0.011725 after 1856 accepted steps\n",
      "[mcmc]  - Updated covariance matrix of proposal pdf.\n",
      "[mcmc] Learn + convergence test @ 2400 samples accepted.\n",
      "[mcmc]  - Acceptance rate: 0.306\n",
      "[mcmc]  - Convergence of means: R-1 = 0.012528 after 1920 accepted steps\n",
      "[mcmc]  - Updated covariance matrix of proposal pdf.\n",
      "[mcmc] Learn + convergence test @ 2480 samples accepted.\n",
      "[mcmc]  - Acceptance rate: 0.306\n",
      "[mcmc]  - Convergence of means: R-1 = 0.009289 after 1984 accepted steps\n",
      "[mcmc]  - Updated covariance matrix of proposal pdf.\n",
      "[mcmc] Learn + convergence test @ 2560 samples accepted.\n",
      "[mcmc]  - Acceptance rate: 0.305\n",
      "[mcmc]  - Convergence of means: R-1 = 0.011097 after 2048 accepted steps\n",
      "[mcmc]  - Updated covariance matrix of proposal pdf.\n",
      "[mcmc] Learn + convergence test @ 2640 samples accepted.\n",
      "[mcmc]  - Acceptance rate: 0.304\n",
      "[mcmc]  - Convergence of means: R-1 = 0.010652 after 2112 accepted steps\n",
      "[mcmc]  - Updated covariance matrix of proposal pdf.\n",
      "[mcmc] Learn + convergence test @ 2720 samples accepted.\n",
      "[mcmc]  - Acceptance rate: 0.305\n",
      "[mcmc]  - Convergence of means: R-1 = 0.014370 after 2176 accepted steps\n",
      "[mcmc]  - Updated covariance matrix of proposal pdf.\n",
      "[mcmc] Learn + convergence test @ 2800 samples accepted.\n",
      "[mcmc]  - Acceptance rate: 0.305\n",
      "[mcmc]  - Convergence of means: R-1 = 0.009689 after 2240 accepted steps\n"
     ]
    },
    {
     "name": "stdout",
     "output_type": "stream",
     "text": [
      "[mcmc]  - Updated covariance matrix of proposal pdf.\n",
      "[mcmc] Learn + convergence test @ 2880 samples accepted.\n",
      "[mcmc]  - Acceptance rate: 0.304\n",
      "[mcmc]  - Convergence of means: R-1 = 0.010531 after 2304 accepted steps\n",
      "[mcmc]  - Updated covariance matrix of proposal pdf.\n",
      "[mcmc] Learn + convergence test @ 2960 samples accepted.\n",
      "[mcmc]  - Acceptance rate: 0.304\n",
      "[mcmc]  - Convergence of means: R-1 = 0.009975 after 2368 accepted steps\n",
      "[mcmc]  - Updated covariance matrix of proposal pdf.\n",
      "[mcmc] Learn + convergence test @ 3040 samples accepted.\n",
      "[mcmc]  - Acceptance rate: 0.303\n",
      "[mcmc]  - Convergence of means: R-1 = 0.007692 after 2432 accepted steps\n",
      "[mcmc]  - Updated covariance matrix of proposal pdf.\n",
      "[mcmc] Learn + convergence test @ 3120 samples accepted.\n",
      "[mcmc]  - Acceptance rate: 0.302\n",
      "[mcmc]  - Convergence of means: R-1 = 0.006687 after 2496 accepted steps\n",
      "[mcmc]  - Updated covariance matrix of proposal pdf.\n",
      "[mcmc] Learn + convergence test @ 3200 samples accepted.\n",
      "[mcmc]  - Acceptance rate: 0.301\n",
      "[mcmc]  - Convergence of means: R-1 = 0.006447 after 2560 accepted steps\n",
      "[mcmc]  - Updated covariance matrix of proposal pdf.\n",
      "[mcmc] Learn + convergence test @ 3280 samples accepted.\n",
      "[mcmc]  - Acceptance rate: 0.303\n",
      "[mcmc]  - Convergence of means: R-1 = 0.008148 after 2624 accepted steps\n",
      "[mcmc]  - Updated covariance matrix of proposal pdf.\n",
      "[mcmc] Learn + convergence test @ 3360 samples accepted.\n",
      "[mcmc]  - Acceptance rate: 0.302\n",
      "[mcmc]  - Convergence of means: R-1 = 0.007762 after 2688 accepted steps\n",
      "[mcmc]  - Updated covariance matrix of proposal pdf.\n",
      "[mcmc] Learn + convergence test @ 3440 samples accepted.\n",
      "[mcmc]  - Acceptance rate: 0.302\n",
      "[mcmc]  - Convergence of means: R-1 = 0.005468 after 2752 accepted steps\n",
      "[mcmc]  - Updated covariance matrix of proposal pdf.\n",
      "[mcmc] Learn + convergence test @ 3520 samples accepted.\n",
      "[mcmc]  - Acceptance rate: 0.301\n",
      "[mcmc]  - Convergence of means: R-1 = 0.005473 after 2816 accepted steps\n",
      "[mcmc]  - Updated covariance matrix of proposal pdf.\n",
      "[mcmc] Learn + convergence test @ 3600 samples accepted.\n",
      "[mcmc]  - Acceptance rate: 0.301\n",
      "[mcmc]  - Convergence of means: R-1 = 0.007584 after 2880 accepted steps\n",
      "[mcmc]  - Updated covariance matrix of proposal pdf.\n",
      "[mcmc] Learn + convergence test @ 3680 samples accepted.\n",
      "[mcmc]  - Acceptance rate: 0.301\n",
      "[mcmc]  - Convergence of means: R-1 = 0.012021 after 2944 accepted steps\n",
      "[mcmc]  - Updated covariance matrix of proposal pdf.\n",
      "[mcmc] Learn + convergence test @ 3760 samples accepted.\n",
      "[mcmc]  - Acceptance rate: 0.300\n",
      "[mcmc]  - Convergence of means: R-1 = 0.011492 after 3008 accepted steps\n",
      "[mcmc]  - Updated covariance matrix of proposal pdf.\n",
      "[mcmc] Learn + convergence test @ 3840 samples accepted.\n",
      "[mcmc]  - Acceptance rate: 0.300\n",
      "[mcmc]  - Convergence of means: R-1 = 0.010449 after 3072 accepted steps\n",
      "[mcmc]  - Updated covariance matrix of proposal pdf.\n",
      "[mcmc] Learn + convergence test @ 3920 samples accepted.\n",
      "[mcmc]  - Acceptance rate: 0.299\n",
      "[mcmc]  - Convergence of means: R-1 = 0.012352 after 3136 accepted steps\n",
      "[mcmc]  - Updated covariance matrix of proposal pdf.\n",
      "[mcmc] Learn + convergence test @ 4000 samples accepted.\n",
      "[mcmc]  - Acceptance rate: 0.300\n",
      "[mcmc]  - Convergence of means: R-1 = 0.013545 after 3200 accepted steps\n",
      "[mcmc]  - Updated covariance matrix of proposal pdf.\n",
      "[mcmc] Learn + convergence test @ 4080 samples accepted.\n",
      "[mcmc]  - Acceptance rate: 0.299\n",
      "[mcmc]  - Convergence of means: R-1 = 0.014318 after 3264 accepted steps\n",
      "[mcmc]  - Updated covariance matrix of proposal pdf.\n",
      "[mcmc] Learn + convergence test @ 4160 samples accepted.\n",
      "[mcmc]  - Acceptance rate: 0.299\n",
      "[mcmc]  - Convergence of means: R-1 = 0.012549 after 3328 accepted steps\n",
      "[mcmc]  - Updated covariance matrix of proposal pdf.\n",
      "[mcmc] Learn + convergence test @ 4240 samples accepted.\n",
      "[mcmc]  - Acceptance rate: 0.300\n",
      "[mcmc]  - Convergence of means: R-1 = 0.013067 after 3392 accepted steps\n",
      "[mcmc]  - Updated covariance matrix of proposal pdf.\n",
      "[mcmc] Learn + convergence test @ 4320 samples accepted.\n",
      "[mcmc]  - Acceptance rate: 0.300\n",
      "[mcmc]  - Convergence of means: R-1 = 0.011848 after 3456 accepted steps\n",
      "[mcmc]  - Updated covariance matrix of proposal pdf.\n",
      "[mcmc] Learn + convergence test @ 4400 samples accepted.\n",
      "[mcmc]  - Acceptance rate: 0.301\n",
      "[mcmc]  - Convergence of means: R-1 = 0.012054 after 3520 accepted steps\n",
      "[mcmc]  - Updated covariance matrix of proposal pdf.\n",
      "[mcmc] Learn + convergence test @ 4480 samples accepted.\n",
      "[mcmc]  - Acceptance rate: 0.302\n",
      "[mcmc]  - Convergence of means: R-1 = 0.012262 after 3584 accepted steps\n",
      "[mcmc]  - Updated covariance matrix of proposal pdf.\n",
      "[mcmc] Learn + convergence test @ 4560 samples accepted.\n",
      "[mcmc]  - Acceptance rate: 0.301\n",
      "[mcmc]  - Convergence of means: R-1 = 0.010003 after 3648 accepted steps\n",
      "[mcmc]  - Updated covariance matrix of proposal pdf.\n",
      "[mcmc] Learn + convergence test @ 4640 samples accepted.\n",
      "[mcmc]  - Acceptance rate: 0.301\n",
      "[mcmc]  - Convergence of means: R-1 = 0.009975 after 3712 accepted steps\n",
      "[mcmc]  - Updated covariance matrix of proposal pdf.\n",
      "[mcmc] Learn + convergence test @ 4720 samples accepted.\n",
      "[mcmc]  - Acceptance rate: 0.301\n",
      "[mcmc]  - Convergence of means: R-1 = 0.010741 after 3776 accepted steps\n",
      "[mcmc]  - Updated covariance matrix of proposal pdf.\n",
      "[mcmc] Learn + convergence test @ 4800 samples accepted.\n",
      "[mcmc]  - Acceptance rate: 0.301\n",
      "[mcmc]  - Convergence of means: R-1 = 0.010757 after 3840 accepted steps\n",
      "[mcmc]  - Updated covariance matrix of proposal pdf.\n",
      "[mcmc] Learn + convergence test @ 4880 samples accepted.\n",
      "[mcmc]  - Acceptance rate: 0.299\n",
      "[mcmc]  - Convergence of means: R-1 = 0.010358 after 3904 accepted steps\n",
      "[mcmc]  - Updated covariance matrix of proposal pdf.\n",
      "[mcmc] Learn + convergence test @ 4960 samples accepted.\n",
      "[mcmc]  - Acceptance rate: 0.298\n",
      "[mcmc]  - Convergence of means: R-1 = 0.011622 after 3968 accepted steps\n",
      "[mcmc]  - Updated covariance matrix of proposal pdf.\n",
      "[mcmc] Learn + convergence test @ 5040 samples accepted.\n",
      "[mcmc]  - Acceptance rate: 0.299\n",
      "[mcmc]  - Convergence of means: R-1 = 0.012108 after 4032 accepted steps\n",
      "[mcmc]  - Updated covariance matrix of proposal pdf.\n",
      "[mcmc] Learn + convergence test @ 5120 samples accepted.\n",
      "[mcmc]  - Acceptance rate: 0.299\n",
      "[mcmc]  - Convergence of means: R-1 = 0.011946 after 4096 accepted steps\n",
      "[mcmc]  - Updated covariance matrix of proposal pdf.\n",
      "[mcmc] Learn + convergence test @ 5200 samples accepted.\n",
      "[mcmc]  - Acceptance rate: 0.299\n",
      "[mcmc]  - Convergence of means: R-1 = 0.010517 after 4160 accepted steps\n",
      "[mcmc]  - Updated covariance matrix of proposal pdf.\n",
      "[mcmc] Learn + convergence test @ 5280 samples accepted.\n",
      "[mcmc]  - Acceptance rate: 0.300\n",
      "[mcmc]  - Convergence of means: R-1 = 0.011467 after 4224 accepted steps\n",
      "[mcmc]  - Updated covariance matrix of proposal pdf.\n",
      "[mcmc] Learn + convergence test @ 5360 samples accepted.\n",
      "[mcmc]  - Acceptance rate: 0.299\n",
      "[mcmc]  - Convergence of means: R-1 = 0.011568 after 4288 accepted steps\n",
      "[mcmc]  - Updated covariance matrix of proposal pdf.\n",
      "[mcmc] Learn + convergence test @ 5440 samples accepted.\n",
      "[mcmc]  - Acceptance rate: 0.298\n",
      "[mcmc]  - Convergence of means: R-1 = 0.012932 after 4352 accepted steps\n",
      "[mcmc]  - Updated covariance matrix of proposal pdf.\n",
      "[mcmc] Learn + convergence test @ 5520 samples accepted.\n",
      "[mcmc]  - Acceptance rate: 0.298\n",
      "[mcmc]  - Convergence of means: R-1 = 0.012685 after 4416 accepted steps\n",
      "[mcmc]  - Updated covariance matrix of proposal pdf.\n",
      "[mcmc] Learn + convergence test @ 5600 samples accepted.\n",
      "[mcmc]  - Acceptance rate: 0.297\n",
      "[mcmc]  - Convergence of means: R-1 = 0.011305 after 4480 accepted steps\n",
      "[mcmc]  - Updated covariance matrix of proposal pdf.\n",
      "[mcmc] Learn + convergence test @ 5680 samples accepted.\n",
      "[mcmc]  - Acceptance rate: 0.298\n",
      "[mcmc]  - Convergence of means: R-1 = 0.010695 after 4544 accepted steps\n",
      "[mcmc]  - Updated covariance matrix of proposal pdf.\n",
      "[mcmc] Learn + convergence test @ 5760 samples accepted.\n",
      "[mcmc]  - Acceptance rate: 0.297\n",
      "[mcmc]  - Convergence of means: R-1 = 0.009916 after 4608 accepted steps\n",
      "[mcmc]  - Updated covariance matrix of proposal pdf.\n",
      "[mcmc] Learn + convergence test @ 5840 samples accepted.\n",
      "[mcmc]  - Acceptance rate: 0.297\n",
      "[mcmc]  - Convergence of means: R-1 = 0.010661 after 4672 accepted steps\n"
     ]
    },
    {
     "name": "stdout",
     "output_type": "stream",
     "text": [
      "[mcmc]  - Updated covariance matrix of proposal pdf.\n",
      "[mcmc] Learn + convergence test @ 5920 samples accepted.\n",
      "[mcmc]  - Acceptance rate: 0.296\n",
      "[mcmc]  - Convergence of means: R-1 = 0.008972 after 4736 accepted steps\n",
      "[mcmc]  - Updated covariance matrix of proposal pdf.\n",
      "[mcmc] Learn + convergence test @ 6000 samples accepted.\n",
      "[mcmc]  - Acceptance rate: 0.295\n",
      "[mcmc]  - Convergence of means: R-1 = 0.007684 after 4800 accepted steps\n",
      "[mcmc]  - Updated covariance matrix of proposal pdf.\n",
      "[mcmc] Learn + convergence test @ 6080 samples accepted.\n",
      "[mcmc]  - Acceptance rate: 0.294\n",
      "[mcmc]  - Convergence of means: R-1 = 0.006966 after 4864 accepted steps\n",
      "[mcmc]  - Updated covariance matrix of proposal pdf.\n",
      "[mcmc] Learn + convergence test @ 6160 samples accepted.\n",
      "[mcmc]  - Acceptance rate: 0.294\n",
      "[mcmc]  - Convergence of means: R-1 = 0.006765 after 4928 accepted steps\n",
      "[mcmc]  - Updated covariance matrix of proposal pdf.\n",
      "[mcmc] Learn + convergence test @ 6240 samples accepted.\n",
      "[mcmc]  - Acceptance rate: 0.295\n",
      "[mcmc]  - Convergence of means: R-1 = 0.006116 after 4992 accepted steps\n",
      "[mcmc]  - Updated covariance matrix of proposal pdf.\n",
      "[mcmc] Learn + convergence test @ 6320 samples accepted.\n",
      "[mcmc]  - Acceptance rate: 0.294\n",
      "[mcmc]  - Convergence of means: R-1 = 0.005552 after 5056 accepted steps\n",
      "[mcmc]  - Updated covariance matrix of proposal pdf.\n",
      "[mcmc] Learn + convergence test @ 6400 samples accepted.\n",
      "[mcmc]  - Acceptance rate: 0.294\n",
      "[mcmc]  - Convergence of means: R-1 = 0.004149 after 5120 accepted steps\n",
      "[mcmc]  - Updated covariance matrix of proposal pdf.\n",
      "[mcmc] Learn + convergence test @ 6480 samples accepted.\n",
      "[mcmc]  - Acceptance rate: 0.294\n",
      "[mcmc]  - Convergence of means: R-1 = 0.003361 after 5184 accepted steps\n",
      "[mcmc]  - Convergence of bounds: R-1 = 0.069542 after 6480 accepted steps\n",
      "[mcmc] The run has converged!\n",
      "[mcmc] Sampling complete after 6480 accepted steps.\n"
     ]
    }
   ],
   "source": [
    "updated_info, sampler = run(info)"
   ]
  },
  {
   "cell_type": "code",
   "execution_count": 18,
   "id": "b714b9a3",
   "metadata": {},
   "outputs": [
    {
     "data": {
      "image/png": "[encoded data removed]",
      "text/plain": [
       "<Figure size 500x500 with 3 Axes>"
      ]
     },
     "metadata": {},
     "output_type": "display_data"
    }
   ],
   "source": [
    "#here we remove first 20% points as burn-in sample\n",
    "%matplotlib inline\n",
    "gdsamples = sampler.products(to_getdist=True, skip_samples=0.2)[\"sample\"]\n",
    "gdplot = gdplt.get_subplot_plotter(width_inch=5)\n",
    "gdplot.triangle_plot(gdsamples, [\"theta\", \"intercept\"], filled=True)\n",
    "#plot a line indicating the \"true\" parameter values\n",
    "gdplot.add_param_markers(\n",
    "    param_value_dict= {\"theta\":theta_true, \"intercept\":c_true},\n",
    "    color=None,\n",
    "    ls='--',\n",
    "    lw=2.0,\n",
    ")"
   ]
  },
  {
   "cell_type": "code",
   "execution_count": 19,
   "id": "a9437139",
   "metadata": {},
   "outputs": [
    {
     "data": {
      "image/png": "[encoded data removed]",
      "text/plain": [
       "<Figure size 500x500 with 3 Axes>"
      ]
     },
     "metadata": {},
     "output_type": "display_data"
    }
   ],
   "source": [
    "#here we remove first 20% points as burn-in sample\n",
    "%matplotlib inline\n",
    "gdsamples = sampler.products(to_getdist=True, skip_samples=0.2)[\"sample\"]\n",
    "gdplot = gdplt.get_subplot_plotter(width_inch=5)\n",
    "gdplot.triangle_plot(gdsamples, [\"m\", \"intercept\"], filled=True)\n",
    "#plot a line indicating the \"true\" parameter values\n",
    "gdplot.add_param_markers(\n",
    "    param_value_dict= {\"m\":m_true, \"intercept\":c_true},\n",
    "    color=None,\n",
    "    ls='--',\n",
    "    lw=2.0,\n",
    ")"
   ]
  }
 ],
 "metadata": {
  "kernelspec": {
   "display_name": "cobaya",
   "language": "python",
   "name": "cobaya"
  },
  "language_info": {
   "codemirror_mode": {
    "name": "ipython",
    "version": 3
   },
   "file_extension": ".py",
   "mimetype": "text/x-python",
   "name": "python",
   "nbconvert_exporter": "python",
   "pygments_lexer": "ipython3",
   "version": "3.12.1"
  }
 },
 "nbformat": 4,
 "nbformat_minor": 5
}
