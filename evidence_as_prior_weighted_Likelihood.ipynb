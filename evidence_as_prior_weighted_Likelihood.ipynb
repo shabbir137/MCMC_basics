{
 "cells": [
  {
   "cell_type": "code",
   "execution_count": 1,
   "metadata": {},
   "outputs": [],
   "source": [
    "import numpy as np\n",
    "import matplotlib.pyplot as plt"
   ]
  },
  {
   "cell_type": "code",
   "execution_count": 3,
   "metadata": {},
   "outputs": [],
   "source": [
    "def L(d, sigma_N, s):\n",
    "    \"\"\"define a gaussian likelihood of data(d) given signal (s) (and noise variance sigma_N)\"\"\"\n",
    "    exponent = -0.5*np.sum((d-s)**2/sigma_N**2)\n",
    "    return np.exp(exponent)/np.sqrt(np.product(2.0*np.pi*sigma_N**2))"
   ]
  },
  {
   "cell_type": "code",
   "execution_count": 4,
   "metadata": {},
   "outputs": [],
   "source": [
    "def Prior(s, sigma_S):\n",
    "    \"\"\"Gaussian prior on signal (s) with standard deviation sigma_S\"\"\"\n",
    "    exponent = -0.5*(s**2/sigma_S**2)\n",
    "    return np.exp(exponent)/np.sqrt(2.0*np.pi*sigma_S**2)"
   ]
  },
  {
   "cell_type": "code",
   "execution_count": 5,
   "metadata": {},
   "outputs": [],
   "source": [
    "#analytical expression of the Evidence\n",
    "def Evidence_ana(d, sigma_N, sigma_S, N):\n",
    "    \"\"\"Evidence computed using analytical formula when likelihood as well as prior both are gaussian\"\"\"\n",
    "    t0 = np.sum(1.0/sigma_N**2)+1.0/sigma_S**2\n",
    "    t1 = np.sqrt(np.product(2.0*np.pi*sigma_N**2))*np.sqrt(2.0*np.pi*sigma_S**2)\n",
    "    t2 = -0.5*(np.sum(d**2/sigma_N**2) - np.sum(d/sigma_N**2)**2/t0)\n",
    "    t3 = np.sqrt(2.0*np.pi/t0)\n",
    "    return np.exp(t2)*t3/t1"
   ]
  },
  {
   "cell_type": "code",
   "execution_count": 6,
   "metadata": {},
   "outputs": [],
   "source": [
    "#Evidence INTEGRAND\n",
    "def Evidence_integrand(s, d, sigma_N, sigma_S, N):\n",
    "    \"\"\"Evidence integrand (to be integrated numerically with respect to the data (d))\"\"\"\n",
    "    return L(d, sigma_N, s)*Prior(s, sigma_S)"
   ]
  },
  {
   "cell_type": "code",
   "execution_count": 7,
   "metadata": {},
   "outputs": [],
   "source": [
    "#generate toy data\n",
    "#number of data points\n",
    "N = 10\n",
    "#errorbar on the data (standard deviation)\n",
    "sigma_N = np.ndarray(shape = (N))\n",
    "#data array\n",
    "d = np.ndarray(shape = (N))\n",
    "\n",
    "#true signal\n",
    "true_s = 0.0\n",
    "#signal prior standard deviation\n",
    "sigma_S = 0.1\n",
    "\n",
    "#assign noise standard deviation\n",
    "sigma_N.fill(0.5)"
   ]
  },
  {
   "cell_type": "code",
   "execution_count": 8,
   "metadata": {},
   "outputs": [],
   "source": [
    "#say, prior signal is equal to true signal\n",
    "prior_s = true_s"
   ]
  },
  {
   "cell_type": "code",
   "execution_count": 9,
   "metadata": {},
   "outputs": [
    {
     "data": {
      "text/plain": [
       "(10,)"
      ]
     },
     "execution_count": 9,
     "metadata": {},
     "output_type": "execute_result"
    }
   ],
   "source": [
    "#generate data (with random seed fixed for reproducibility)\n",
    "np.random.normal(12345)\n",
    "d = true_s + np.random.normal(0.0, sigma_N, N)\n",
    "np.shape(d)"
   ]
  },
  {
   "cell_type": "code",
   "execution_count": 10,
   "metadata": {},
   "outputs": [
    {
     "data": {
      "text/plain": [
       "[<matplotlib.lines.Line2D at 0x7f93fc8b0a00>]"
      ]
     },
     "execution_count": 10,
     "metadata": {},
     "output_type": "execute_result"
    },
    {
     "data": {
      "image/png": "[encoded data removed]",
      "text/plain": [
       "<Figure size 432x288 with 1 Axes>"
      ]
     },
     "metadata": {
      "needs_background": "light"
     },
     "output_type": "display_data"
    }
   ],
   "source": [
    "#plot toy data\n",
    "plt.plot(d)"
   ]
  },
  {
   "cell_type": "code",
   "execution_count": 11,
   "metadata": {},
   "outputs": [
    {
     "data": {
      "text/plain": [
       "Text(0.5, 0, '$s$')"
      ]
     },
     "execution_count": 11,
     "metadata": {},
     "output_type": "execute_result"
    },
    {
     "data": {
      "image/png": "[encoded data removed]",
      "text/plain": [
       "<Figure size 432x288 with 1 Axes>"
      ]
     },
     "metadata": {
      "needs_background": "light"
     },
     "output_type": "display_data"
    }
   ],
   "source": [
    "#plot likelihood as a function of signal and prior as a function of signal\n",
    "x = np.arange(-2, 2, 0.01)\n",
    "f = np.ndarray(shape = (len(x)))\n",
    "g = np.ndarray(shape = (len(x)))\n",
    "for i in np.arange(0, len(x), 1):\n",
    "    f[i] = L(d, sigma_N, x[i])#*Prior(x[i], sigma_S)\n",
    "    g[i] = Prior(x[i], sigma_S)\n",
    "plt.plot(x, f, lw = 2.0, label = r\"Likelihood $L(d|s)$\")\n",
    "plt.plot(x, g, lw = 2.0, label = r\"Prior $P(s)$\")\n",
    "plt.legend(loc = 'upper right', fontsize = 10)\n",
    "plt.ylim(1e-9, 1e5)\n",
    "plt.yscale('log')\n",
    "plt.xlabel(r\"$s$\", fontsize = 20)"
   ]
  },
  {
   "cell_type": "code",
   "execution_count": 14,
   "metadata": {},
   "outputs": [
    {
     "name": "stdout",
     "output_type": "stream",
     "text": [
      "Analytically obtained evidence is  1.429150810553276e-06\n"
     ]
    }
   ],
   "source": [
    "#Analytical evidence\n",
    "ana_E = Evidence_ana(d, sigma_N, sigma_S, N)\n",
    "print(\"Analytically obtained evidence is \", ana_E)"
   ]
  },
  {
   "cell_type": "code",
   "execution_count": 16,
   "metadata": {},
   "outputs": [
    {
     "name": "stdout",
     "output_type": "stream",
     "text": [
      "Numerically integrated evidence is  1.429150810553278e-06\n"
     ]
    }
   ],
   "source": [
    "#Compute the evidence by directly integrating the product of likelihood and prior\n",
    "\n",
    "#First, generate the grid\n",
    "x = np.arange(-2.0, 2.0, 0.0005)\n",
    "y = np.ndarray(shape = (len(x)))\n",
    "\n",
    "for i in np.arange(0, len(x), 1):\n",
    "    y[i] = Evidence_integrand(x[i], d, sigma_N, sigma_S, N)\n",
    "\n",
    "#integrate\n",
    "comp_Evidence = np.trapz(y=y, x=x)\n",
    "print(\"Numerically integrated evidence is \", comp_Evidence)"
   ]
  },
  {
   "cell_type": "markdown",
   "metadata": {},
   "source": [
    "## verify that evidence is prior weighted sum of likelihood at sample values"
   ]
  },
  {
   "cell_type": "code",
   "execution_count": 21,
   "metadata": {},
   "outputs": [],
   "source": [
    "#draw samples from the gaussian prior with mean 'prior_s' and standard deviation 'sigma_S'\n",
    "N_samples = 30000\n",
    "prior_samples = np.random.normal(prior_s, sigma_S, N_samples)"
   ]
  },
  {
   "cell_type": "code",
   "execution_count": 23,
   "metadata": {},
   "outputs": [
    {
     "data": {
      "image/png": "[encoded data removed]",
      "text/plain": [
       "<Figure size 432x288 with 1 Axes>"
      ]
     },
     "metadata": {
      "needs_background": "light"
     },
     "output_type": "display_data"
    }
   ],
   "source": [
    "#plt the samples and the prior\n",
    "plt.hist(prior_samples, density = True, bins=20)\n",
    "x = np.arange(-1, 1, 0.01)\n",
    "g = np.ndarray(shape = (len(x)))\n",
    "for i in np.arange(0, len(x), 1):\n",
    "    g[i] = Prior(x[i], sigma_S)\n",
    "plt.plot(x, g, lw = 3.0)\n",
    "plt.yscale('linear')"
   ]
  },
  {
   "cell_type": "code",
   "execution_count": 24,
   "metadata": {},
   "outputs": [],
   "source": [
    "#MCMC_E = np.sum(L(d, sigma_N, prior_samples))\n",
    "MCMC_E = 0.0\n",
    "for i in np.arange(0, len(prior_samples), 1):\n",
    "    MCMC_E += L(d, sigma_N, prior_samples[i])/N_samples"
   ]
  },
  {
   "cell_type": "code",
   "execution_count": 26,
   "metadata": {},
   "outputs": [
    {
     "name": "stdout",
     "output_type": "stream",
     "text": [
      "Evidence obtained by summing the likelihood over prior samples is 1.4510440382391124e-06\n"
     ]
    }
   ],
   "source": [
    "print(\"Evidence obtained by summing the likelihood over prior samples is\", MCMC_E)"
   ]
  },
  {
   "cell_type": "code",
   "execution_count": 28,
   "metadata": {},
   "outputs": [
    {
     "name": "stdout",
     "output_type": "stream",
     "text": [
      "Above value matches closely with the value from the analytical formula 1.42915e-06 and the numerically evaluated value 1.42915e-06\n"
     ]
    }
   ],
   "source": [
    "print(\"Above value matches closely with the value from the analytical formula %.5e and the numerically evaluated value %.5e\" %(ana_E, comp_Evidence))"
   ]
  },
  {
   "cell_type": "code",
   "execution_count": null,
   "metadata": {},
   "outputs": [],
   "source": []
  }
 ],
 "metadata": {
  "kernelspec": {
   "display_name": "Python 3",
   "language": "python",
   "name": "python3"
  },
  "language_info": {
   "codemirror_mode": {
    "name": "ipython",
    "version": 3
   },
   "file_extension": ".py",
   "mimetype": "text/x-python",
   "name": "python",
   "nbconvert_exporter": "python",
   "pygments_lexer": "ipython3",
   "version": "3.8.8"
  }
 },
 "nbformat": 4,
 "nbformat_minor": 2
}
